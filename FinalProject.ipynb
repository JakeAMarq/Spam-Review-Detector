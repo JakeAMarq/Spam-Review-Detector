{
  "nbformat": 4,
  "nbformat_minor": 0,
  "metadata": {
    "colab": {
      "name": "FinalProject.ipynb",
      "provenance": [],
      "collapsed_sections": []
    },
    "kernelspec": {
      "name": "python3",
      "display_name": "Python 3"
    }
  },
  "cells": [
    {
      "cell_type": "code",
      "metadata": {
        "id": "7MnryNUyeb7p",
        "colab_type": "code",
        "outputId": "57bd2c88-dc3d-4534-d7dd-bca8088d5ead",
        "colab": {
          "base_uri": "https://localhost:8080/",
          "height": 200
        }
      },
      "source": [
        "import nltk\n",
        "nltk.download('averaged_perceptron_tagger')\n",
        "nltk.download('universal_tagset')\n",
        "nltk.download('RegexpTokenizer')\n",
        "nltk.download('stopwords')"
      ],
      "execution_count": 367,
      "outputs": [
        {
          "output_type": "stream",
          "text": [
            "[nltk_data] Downloading package averaged_perceptron_tagger to\n",
            "[nltk_data]     /root/nltk_data...\n",
            "[nltk_data]   Package averaged_perceptron_tagger is already up-to-\n",
            "[nltk_data]       date!\n",
            "[nltk_data] Downloading package universal_tagset to /root/nltk_data...\n",
            "[nltk_data]   Package universal_tagset is already up-to-date!\n",
            "[nltk_data] Error loading RegexpTokenizer: Package 'RegexpTokenizer'\n",
            "[nltk_data]     not found in index\n",
            "[nltk_data] Downloading package stopwords to /root/nltk_data...\n",
            "[nltk_data]   Package stopwords is already up-to-date!\n"
          ],
          "name": "stdout"
        },
        {
          "output_type": "execute_result",
          "data": {
            "text/plain": [
              "True"
            ]
          },
          "metadata": {
            "tags": []
          },
          "execution_count": 367
        }
      ]
    },
    {
      "cell_type": "code",
      "metadata": {
        "id": "FVka3fXxT7xf",
        "colab_type": "code",
        "colab": {}
      },
      "source": [
        "from nltk import RegexpTokenizer\n",
        "from nltk.corpus import stopwords\n",
        "\n",
        "def cleanText (text):\n",
        "  tokenizer = RegexpTokenizer(r\"\\w+\")                       # custom tokenizer to remove punctuation when tokenized\n",
        "  stop_words = set(stopwords.words(\"english\"))\n",
        "  text = text.lower()                                       # making text all lower case\n",
        "  text = tokenizer.tokenize(text)                          \n",
        "  text = [word for word in text if not word in stop_words]  # removing stopwords\n",
        "\n",
        "  return text"
      ],
      "execution_count": 0,
      "outputs": []
    },
    {
      "cell_type": "code",
      "metadata": {
        "id": "4sO5FaIh-Db8",
        "colab_type": "code",
        "outputId": "f1819bcd-8117-4a03-fe00-39e6f44fc51f",
        "colab": {
          "resources": {
            "http://localhost:8080/nbextensions/google.colab/files.js": {
              "data": "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",
              "ok": true,
              "headers": [
                [
                  "content-type",
                  "application/javascript"
                ]
              ],
              "status": 200,
              "status_text": ""
            }
          },
          "base_uri": "https://localhost:8080/",
          "height": 73
        }
      },
      "source": [
        "from google.colab import files\n",
        "\n",
        "uploaded = files.upload()"
      ],
      "execution_count": 369,
      "outputs": [
        {
          "output_type": "display_data",
          "data": {
            "text/html": [
              "\n",
              "     <input type=\"file\" id=\"files-4b633ccd-4b1d-4ea7-beba-167206bec113\" name=\"files[]\" multiple disabled />\n",
              "     <output id=\"result-4b633ccd-4b1d-4ea7-beba-167206bec113\">\n",
              "      Upload widget is only available when the cell has been executed in the\n",
              "      current browser session. Please rerun this cell to enable.\n",
              "      </output>\n",
              "      <script src=\"/nbextensions/google.colab/files.js\"></script> "
            ],
            "text/plain": [
              "<IPython.core.display.HTML object>"
            ]
          },
          "metadata": {
            "tags": []
          }
        },
        {
          "output_type": "stream",
          "text": [
            "Saving spamReviewData.csv to spamReviewData (1).csv\n"
          ],
          "name": "stdout"
        }
      ]
    },
    {
      "cell_type": "code",
      "metadata": {
        "id": "uCsXV1aEL4Fs",
        "colab_type": "code",
        "colab": {}
      },
      "source": [
        "import io\n",
        "import pandas as pd\n",
        "\n",
        "data = pd.read_csv(io.BytesIO(uploaded[\"spamReviewData.csv\"]))\n",
        "data = data.rename(columns = {\"text\": \"words\"}).drop(columns=\"hotel\")"
      ],
      "execution_count": 0,
      "outputs": []
    },
    {
      "cell_type": "code",
      "metadata": {
        "id": "FTf4au6X_HLi",
        "colab_type": "code",
        "colab": {}
      },
      "source": [
        "# cleaning text\n",
        "data[\"words\"] = [cleanText(txt) for txt in data[\"words\"]]"
      ],
      "execution_count": 0,
      "outputs": []
    },
    {
      "cell_type": "code",
      "metadata": {
        "id": "5ypfzSGyGAkC",
        "colab_type": "code",
        "colab": {}
      },
      "source": [
        "# creating total word count column\n",
        "data[\"word_count\"] = [len(txt) for txt in data[\"words\"]]"
      ],
      "execution_count": 0,
      "outputs": []
    },
    {
      "cell_type": "code",
      "metadata": {
        "id": "pPWcOHdpLccb",
        "colab_type": "code",
        "cellView": "both",
        "colab": {}
      },
      "source": [
        "from nltk.util import ngrams\n",
        "data[\"word_bigram\"] = [list(ngrams(txt, n=2)) for txt in data[\"words\"]]"
      ],
      "execution_count": 0,
      "outputs": []
    },
    {
      "cell_type": "code",
      "metadata": {
        "id": "VWANNGooQBOW",
        "colab_type": "code",
        "colab": {}
      },
      "source": [
        "def getNGramCounts(nGrams):\n",
        "  counts = [{} for ngram in nGrams]\n",
        "  for i in range(len(nGrams)):\n",
        "    for j in range(len(nGrams[i])):\n",
        "      temp = nGrams[i][j]\n",
        "      if temp in counts[i]:\n",
        "        counts[i][temp] += 1\n",
        "      else:\n",
        "        counts[i][temp] = 1\n",
        "  return counts"
      ],
      "execution_count": 0,
      "outputs": []
    },
    {
      "cell_type": "code",
      "metadata": {
        "id": "zkNb62XxXijE",
        "colab_type": "code",
        "colab": {}
      },
      "source": [
        "# creating unigram and bigram count dictionary for each review\n",
        "data[\"word_unigram_counts\"] = getNGramCounts(data[\"words\"])\n",
        "data[\"word_bigram_counts\"] = getNGramCounts(data[\"word_bigram\"])\n"
      ],
      "execution_count": 0,
      "outputs": []
    },
    {
      "cell_type": "code",
      "metadata": {
        "id": "2xl7jeUoGx4D",
        "colab_type": "code",
        "colab": {}
      },
      "source": [
        "# creating column for part-of-speech tags\n",
        "from nltk import pos_tag\n",
        "tagged_words = [pos_tag(txt) for txt in data[\"words\"]]\n",
        "data[\"tags\"] = [[pair[1] for pair in review] for review in tagged_words]  "
      ],
      "execution_count": 0,
      "outputs": []
    },
    {
      "cell_type": "code",
      "metadata": {
        "id": "UJDDjiByzwxV",
        "colab_type": "code",
        "colab": {}
      },
      "source": [
        "data[\"tag_bigram\"] = [list(ngrams(txt, n=2)) for txt in data[\"tags\"]]"
      ],
      "execution_count": 0,
      "outputs": []
    },
    {
      "cell_type": "code",
      "metadata": {
        "id": "uckek0vjX8Hf",
        "colab_type": "code",
        "colab": {}
      },
      "source": [
        "# creating unigram and bigram count dictionary for each review\n",
        "data[\"tag_unigram_counts\"] = getNGramCounts(data[\"tags\"])\n",
        "data[\"tag_bigram_counts\"] = getNGramCounts(data[\"tag_bigram\"])"
      ],
      "execution_count": 0,
      "outputs": []
    },
    {
      "cell_type": "code",
      "metadata": {
        "id": "ttjjSuXg93IU",
        "colab_type": "code",
        "colab": {}
      },
      "source": [
        "data = data.drop(columns=[\"word_bigram\", \"tag_bigram\"])"
      ],
      "execution_count": 0,
      "outputs": []
    },
    {
      "cell_type": "code",
      "metadata": {
        "id": "079WEEKqRoDf",
        "colab_type": "code",
        "outputId": "f5caee60-0039-46a5-f501-0cc64f093119",
        "colab": {
          "base_uri": "https://localhost:8080/",
          "height": 573
        }
      },
      "source": [
        "data"
      ],
      "execution_count": 399,
      "outputs": [
        {
          "output_type": "execute_result",
          "data": {
            "text/html": [
              "<div>\n",
              "<style scoped>\n",
              "    .dataframe tbody tr th:only-of-type {\n",
              "        vertical-align: middle;\n",
              "    }\n",
              "\n",
              "    .dataframe tbody tr th {\n",
              "        vertical-align: top;\n",
              "    }\n",
              "\n",
              "    .dataframe thead th {\n",
              "        text-align: right;\n",
              "    }\n",
              "</style>\n",
              "<table border=\"1\" class=\"dataframe\">\n",
              "  <thead>\n",
              "    <tr style=\"text-align: right;\">\n",
              "      <th></th>\n",
              "      <th>polarity</th>\n",
              "      <th>spam</th>\n",
              "      <th>words</th>\n",
              "      <th>word_count</th>\n",
              "      <th>word_unigram_counts</th>\n",
              "      <th>word_bigram_counts</th>\n",
              "      <th>tags</th>\n",
              "      <th>tag_unigram_counts</th>\n",
              "      <th>tag_bigram_counts</th>\n",
              "    </tr>\n",
              "  </thead>\n",
              "  <tbody>\n",
              "    <tr>\n",
              "      <th>0</th>\n",
              "      <td>0</td>\n",
              "      <td>0</td>\n",
              "      <td>[hard, rock, hotel, chicago, become, favorite,...</td>\n",
              "      <td>164</td>\n",
              "      <td>{'hard': 1, 'rock': 3, 'hotel': 5, 'chicago': ...</td>\n",
              "      <td>{('hard', 'rock'): 1, ('rock', 'hotel'): 1, ('...</td>\n",
              "      <td>[JJ, NN, NN, VBZ, VBN, JJ, NN, VBD, JJS, CD, N...</td>\n",
              "      <td>{'JJ': 36, 'NN': 61, 'VBZ': 4, 'VBN': 4, 'VBD'...</td>\n",
              "      <td>{('JJ', 'NN'): 18, ('NN', 'NN'): 25, ('NN', 'V...</td>\n",
              "    </tr>\n",
              "    <tr>\n",
              "      <th>1</th>\n",
              "      <td>0</td>\n",
              "      <td>0</td>\n",
              "      <td>[wife, stay, downtown, event, attending, drake...</td>\n",
              "      <td>119</td>\n",
              "      <td>{'wife': 1, 'stay': 3, 'downtown': 1, 'event':...</td>\n",
              "      <td>{('wife', 'stay'): 1, ('stay', 'downtown'): 1,...</td>\n",
              "      <td>[NN, VB, JJ, NN, VBG, JJ, NN, VBD, JJ, JJ, NN,...</td>\n",
              "      <td>{'NN': 43, 'VB': 7, 'JJ': 28, 'VBG': 4, 'VBD':...</td>\n",
              "      <td>{('NN', 'VB'): 1, ('VB', 'JJ'): 3, ('JJ', 'NN'...</td>\n",
              "    </tr>\n",
              "    <tr>\n",
              "      <th>2</th>\n",
              "      <td>0</td>\n",
              "      <td>0</td>\n",
              "      <td>[took, weekend, trip, wife, got, great, rate, ...</td>\n",
              "      <td>33</td>\n",
              "      <td>{'took': 1, 'weekend': 1, 'trip': 1, 'wife': 1...</td>\n",
              "      <td>{('took', 'weekend'): 1, ('weekend', 'trip'): ...</td>\n",
              "      <td>[VBD, NN, NN, NN, VBD, JJ, NN, NN, VBD, JJ, NN...</td>\n",
              "      <td>{'VBD': 4, 'NN': 16, 'JJ': 8, 'NNS': 1, 'JJR':...</td>\n",
              "      <td>{('VBD', 'NN'): 1, ('NN', 'NN'): 6, ('NN', 'VB...</td>\n",
              "    </tr>\n",
              "    <tr>\n",
              "      <th>3</th>\n",
              "      <td>0</td>\n",
              "      <td>0</td>\n",
              "      <td>[stayed, great, reviews, true, highly, impress...</td>\n",
              "      <td>61</td>\n",
              "      <td>{'stayed': 1, 'great': 1, 'reviews': 1, 'true'...</td>\n",
              "      <td>{('stayed', 'great'): 1, ('great', 'reviews'):...</td>\n",
              "      <td>[VBN, JJ, NNS, JJ, RB, JJ, JJ, NN, NN, NN, NN,...</td>\n",
              "      <td>{'VBN': 1, 'JJ': 9, 'NNS': 6, 'RB': 6, 'NN': 2...</td>\n",
              "      <td>{('VBN', 'JJ'): 1, ('JJ', 'NNS'): 2, ('NNS', '...</td>\n",
              "    </tr>\n",
              "    <tr>\n",
              "      <th>4</th>\n",
              "      <td>0</td>\n",
              "      <td>0</td>\n",
              "      <td>[returned, week, chicago, family, hotel, perfe...</td>\n",
              "      <td>53</td>\n",
              "      <td>{'returned': 1, 'week': 1, 'chicago': 1, 'fami...</td>\n",
              "      <td>{('returned', 'week'): 1, ('week', 'chicago'):...</td>\n",
              "      <td>[VBN, NN, NNS, NN, NN, VBP, PRP, NN, JJ, NNS, ...</td>\n",
              "      <td>{'VBN': 3, 'NN': 17, 'NNS': 6, 'VBP': 4, 'PRP'...</td>\n",
              "      <td>{('VBN', 'NN'): 2, ('NN', 'NNS'): 3, ('NNS', '...</td>\n",
              "    </tr>\n",
              "    <tr>\n",
              "      <th>...</th>\n",
              "      <td>...</td>\n",
              "      <td>...</td>\n",
              "      <td>...</td>\n",
              "      <td>...</td>\n",
              "      <td>...</td>\n",
              "      <td>...</td>\n",
              "      <td>...</td>\n",
              "      <td>...</td>\n",
              "      <td>...</td>\n",
              "    </tr>\n",
              "    <tr>\n",
              "      <th>1595</th>\n",
              "      <td>1</td>\n",
              "      <td>1</td>\n",
              "      <td>[awful, experience, staff, rude, unhelpful, to...</td>\n",
              "      <td>29</td>\n",
              "      <td>{'awful': 1, 'experience': 1, 'staff': 1, 'rud...</td>\n",
              "      <td>{('awful', 'experience'): 1, ('experience', 's...</td>\n",
              "      <td>[JJ, NN, NN, VBP, JJ, VBD, RB, NN, VBD, RB, JJ...</td>\n",
              "      <td>{'JJ': 6, 'NN': 8, 'VBP': 1, 'VBD': 5, 'RB': 6...</td>\n",
              "      <td>{('JJ', 'NN'): 3, ('NN', 'NN'): 2, ('NN', 'VBP...</td>\n",
              "    </tr>\n",
              "    <tr>\n",
              "      <th>1596</th>\n",
              "      <td>1</td>\n",
              "      <td>0</td>\n",
              "      <td>[experienced, bed, bugs, room, staying, omni, ...</td>\n",
              "      <td>34</td>\n",
              "      <td>{'experienced': 1, 'bed': 1, 'bugs': 1, 'room'...</td>\n",
              "      <td>{('experienced', 'bed'): 1, ('bed', 'bugs'): 1...</td>\n",
              "      <td>[JJ, VBD, NNS, NN, VBG, JJ, JJ, NN, NN, NN, RB...</td>\n",
              "      <td>{'JJ': 7, 'VBD': 4, 'NNS': 3, 'NN': 14, 'VBG':...</td>\n",
              "      <td>{('JJ', 'VBD'): 1, ('VBD', 'NNS'): 1, ('NNS', ...</td>\n",
              "    </tr>\n",
              "    <tr>\n",
              "      <th>1597</th>\n",
              "      <td>1</td>\n",
              "      <td>1</td>\n",
              "      <td>[recently, stayed, affina, chicago, hotel, rea...</td>\n",
              "      <td>111</td>\n",
              "      <td>{'recently': 1, 'stayed': 1, 'affina': 2, 'chi...</td>\n",
              "      <td>{('recently', 'stayed'): 1, ('stayed', 'affina...</td>\n",
              "      <td>[RB, VBN, RP, JJ, NN, RB, VBN, VBN, NN, NN, RB...</td>\n",
              "      <td>{'RB': 12, 'VBN': 9, 'RP': 1, 'JJ': 19, 'NN': ...</td>\n",
              "      <td>{('RB', 'VBN'): 3, ('VBN', 'RP'): 1, ('RP', 'J...</td>\n",
              "    </tr>\n",
              "    <tr>\n",
              "      <th>1598</th>\n",
              "      <td>1</td>\n",
              "      <td>0</td>\n",
              "      <td>[room, big, luxurious, befitting, price, tag, ...</td>\n",
              "      <td>51</td>\n",
              "      <td>{'room': 2, 'big': 1, 'luxurious': 1, 'befitti...</td>\n",
              "      <td>{('room', 'big'): 1, ('big', 'luxurious'): 1, ...</td>\n",
              "      <td>[NN, JJ, JJ, NN, NN, NN, CD, NN, JJ, RB, VBD, ...</td>\n",
              "      <td>{'NN': 21, 'JJ': 9, 'CD': 3, 'RB': 4, 'VBD': 6...</td>\n",
              "      <td>{('NN', 'JJ'): 4, ('JJ', 'JJ'): 3, ('JJ', 'NN'...</td>\n",
              "    </tr>\n",
              "    <tr>\n",
              "      <th>1599</th>\n",
              "      <td>1</td>\n",
              "      <td>0</td>\n",
              "      <td>[two, girlfriends, arrived, hotel, found, hard...</td>\n",
              "      <td>87</td>\n",
              "      <td>{'two': 1, 'girlfriends': 1, 'arrived': 1, 'ho...</td>\n",
              "      <td>{('two', 'girlfriends'): 1, ('girlfriends', 'a...</td>\n",
              "      <td>[CD, NNS, JJ, NN, VBD, JJ, NN, VBD, NN, VBN, C...</td>\n",
              "      <td>{'CD': 3, 'NNS': 7, 'JJ': 10, 'NN': 33, 'VBD':...</td>\n",
              "      <td>{('CD', 'NNS'): 2, ('NNS', 'JJ'): 1, ('JJ', 'N...</td>\n",
              "    </tr>\n",
              "  </tbody>\n",
              "</table>\n",
              "<p>1600 rows × 9 columns</p>\n",
              "</div>"
            ],
            "text/plain": [
              "      polarity  ...                                  tag_bigram_counts\n",
              "0            0  ...  {('JJ', 'NN'): 18, ('NN', 'NN'): 25, ('NN', 'V...\n",
              "1            0  ...  {('NN', 'VB'): 1, ('VB', 'JJ'): 3, ('JJ', 'NN'...\n",
              "2            0  ...  {('VBD', 'NN'): 1, ('NN', 'NN'): 6, ('NN', 'VB...\n",
              "3            0  ...  {('VBN', 'JJ'): 1, ('JJ', 'NNS'): 2, ('NNS', '...\n",
              "4            0  ...  {('VBN', 'NN'): 2, ('NN', 'NNS'): 3, ('NNS', '...\n",
              "...        ...  ...                                                ...\n",
              "1595         1  ...  {('JJ', 'NN'): 3, ('NN', 'NN'): 2, ('NN', 'VBP...\n",
              "1596         1  ...  {('JJ', 'VBD'): 1, ('VBD', 'NNS'): 1, ('NNS', ...\n",
              "1597         1  ...  {('RB', 'VBN'): 3, ('VBN', 'RP'): 1, ('RP', 'J...\n",
              "1598         1  ...  {('NN', 'JJ'): 4, ('JJ', 'JJ'): 3, ('JJ', 'NN'...\n",
              "1599         1  ...  {('CD', 'NNS'): 2, ('NNS', 'JJ'): 1, ('JJ', 'N...\n",
              "\n",
              "[1600 rows x 9 columns]"
            ]
          },
          "metadata": {
            "tags": []
          },
          "execution_count": 399
        }
      ]
    },
    {
      "cell_type": "code",
      "metadata": {
        "id": "VVONbl4qmv0N",
        "colab_type": "code",
        "colab": {}
      },
      "source": [
        "isReal = data[\"spam\"] == 0\n",
        "isFake = data[\"spam\"] == 1\n",
        "real_reviews = data[isReal]\n",
        "fake_reviews = data[isFake]"
      ],
      "execution_count": 0,
      "outputs": []
    },
    {
      "cell_type": "code",
      "metadata": {
        "id": "W67fGtzoXsnR",
        "colab_type": "code",
        "colab": {}
      },
      "source": [
        "def combineNGramCounts(dicts):\n",
        "  ret = {}\n",
        "  for dict in dicts:\n",
        "    for key in dict.keys():\n",
        "      if key in ret:\n",
        "        ret[key] += dict[key]\n",
        "      else:\n",
        "        ret[key] = dict[key]\n",
        "  return ret"
      ],
      "execution_count": 0,
      "outputs": []
    },
    {
      "cell_type": "code",
      "metadata": {
        "id": "DNl2EUb4TqZY",
        "colab_type": "code",
        "colab": {}
      },
      "source": [
        "real_reviews_word_unigram_counts = combineNGramCounts(real_reviews[\"word_unigram_counts\"])\n",
        "real_reviews_word_bigram_counts = combineNGramCounts(real_reviews[\"word_bigram_counts\"])\n",
        "real_reviews_tag_unigram_counts = combineNGramCounts(real_reviews[\"tag_unigram_counts\"])\n",
        "real_reviews_tag_bigram_counts = combineNGramCounts(real_reviews[\"tag_bigram_counts\"])\n",
        "fake_reviews_word_unigram_counts = combineNGramCounts(fake_reviews[\"word_unigram_counts\"])\n",
        "fake_reviews_word_bigram_counts = combineNGramCounts(fake_reviews[\"word_bigram_counts\"])\n",
        "fake_reviews_tag_unigram_counts = combineNGramCounts(fake_reviews[\"tag_unigram_counts\"])\n",
        "fake_reviews_tag_bigram_counts = combineNGramCounts(fake_reviews[\"tag_bigram_counts\"])"
      ],
      "execution_count": 0,
      "outputs": []
    },
    {
      "cell_type": "code",
      "metadata": {
        "id": "hSxDvqq3dD6N",
        "colab_type": "code",
        "colab": {}
      },
      "source": [
        "real_reviews_word_unigram_counts = pd.DataFrame.from_dict(real_reviews_word_unigram_counts, orient= 'index', columns= ['count']).sort_values('count', ascending=False)\n",
        "real_reviews_word_bigram_counts = pd.DataFrame.from_dict(real_reviews_word_bigram_counts, orient= 'index', columns= ['count']).sort_values('count', ascending=False)\n",
        "real_reviews_tag_unigram_counts = pd.DataFrame.from_dict(real_reviews_tag_unigram_counts, orient= 'index', columns= ['count']).sort_values('count', ascending=False)\n",
        "real_reviews_tag_bigram_counts = pd.DataFrame.from_dict(real_reviews_tag_bigram_counts, orient= 'index', columns= ['count']).sort_values('count', ascending=False)\n",
        "fake_reviews_word_unigram_counts = pd.DataFrame.from_dict(fake_reviews_word_unigram_counts, orient= 'index', columns= ['count']).sort_values('count', ascending=False)\n",
        "fake_reviews_word_bigram_counts = pd.DataFrame.from_dict(fake_reviews_word_bigram_counts, orient= 'index', columns= ['count']).sort_values('count', ascending=False)\n",
        "fake_reviews_tag_unigram_counts = pd.DataFrame.from_dict(fake_reviews_tag_unigram_counts, orient= 'index', columns= ['count']).sort_values('count', ascending=False)\n",
        "fake_reviews_tag_bigram_counts = pd.DataFrame.from_dict(fake_reviews_tag_bigram_counts, orient= 'index', columns= ['count']).sort_values('count', ascending=False)"
      ],
      "execution_count": 0,
      "outputs": []
    },
    {
      "cell_type": "code",
      "metadata": {
        "id": "4cziXhRujVeA",
        "colab_type": "code",
        "colab": {}
      },
      "source": [
        "# real_reviews_word_unigram_counts.nlargest(30, columns='count')\n",
        "# fake_reviews_word_unigram_counts.nlargest(30, columns='count')\n",
        "# real_reviews_tag_unigram_counts.nlargest(30, columns='count')\n",
        "# fake_reviews_tag_unigram_counts.nlargest(30, columns='count')\n",
        "# real_reviews_word_bigram_counts.nlargest(30, columns='count')\n",
        "# fake_reviews_word_bigram_counts.nlargest(30, columns='count')\n",
        "# real_reviews_tag_bigram_counts.nlargest(30, columns='count')\n",
        "# fake_reviews_tag_bigram_counts.nlargest(30, columns='count')"
      ],
      "execution_count": 0,
      "outputs": []
    },
    {
      "cell_type": "code",
      "metadata": {
        "id": "w23O6JgIgu4t",
        "colab_type": "code",
        "colab": {}
      },
      "source": [
        "from sklearn.feature_extraction.text import TfidfVectorizer\n",
        "from sklearn.model_selection import train_test_split\n",
        "from sklearn.svm import SVC\n",
        "from sklearn.pipeline import Pipeline\n",
        "from sklearn.feature_selection import SelectKBest, chi2\n",
        "from sklearn.metrics import accuracy_score\n",
        "import numpy as np"
      ],
      "execution_count": 0,
      "outputs": []
    },
    {
      "cell_type": "code",
      "metadata": {
        "colab_type": "code",
        "outputId": "31071486-b042-4301-fa4d-aae52b8ac5a9",
        "id": "SItYE5YAu9sG",
        "colab": {
          "base_uri": "https://localhost:8080/",
          "height": 33
        }
      },
      "source": [
        "X = [' '.join(words) for words in data[\"words\"]]\n",
        "Y = data['spam']\n",
        "\n",
        "X_train, X_test, y_train, y_test = train_test_split(X, Y, test_size=0.25)\n",
        "\n",
        "clf = Pipeline([('vect', TfidfVectorizer(min_df= 3, sublinear_tf=True, norm='l2', ngram_range=(1, 3))),\n",
        "                        ('chi',  SelectKBest(chi2, k=1200)),\n",
        "                        ('clf', SVC())])\n",
        "\n",
        "model = clf.fit(X_train, y_train)\n",
        "\n",
        "ytest = np.array(y_test)\n",
        "\n",
        "print(\"accuracy score:\", accuracy_score(ytest, model.predict(X_test)))"
      ],
      "execution_count": 406,
      "outputs": [
        {
          "output_type": "stream",
          "text": [
            "accuracy score: 0.86\n"
          ],
          "name": "stdout"
        }
      ]
    }
  ]
}